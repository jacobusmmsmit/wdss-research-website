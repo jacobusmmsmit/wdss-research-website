{
 "cells": [
  {
   "cell_type": "raw",
   "metadata": {
    "id": "cheap-sperm"
   },
   "source": [
    "---\n",
    "title: \"Oh Hell! - Reinforcement Learning for solving card games\"\n",
    "date: 2021-12-04\n",
    "updated: 2021-12-04\n",
    "authors_plus:\n",
    "- Albert Nyarko-Agye\n",
    "- Alexandru Pascru\n",
    "- Ron Cvek\n",
    "contacts_plus:\n",
    "- \"https://www.linkedin.com/in/albert-nyarko-agyei-6ab804188/\"\n",
    "- \"https://www.linkedin.com/in/alexandru-pascu/\"\n",
    "- \"https://www.linkedin.com/in/ronaldcvek/\"\n",
    "editor: \"Keeley Ruane\"\n",
    "editor_contact: \"https://www.linkedin.com/in/keeley-ruane-6aab4219b/\"\n",
    "tags:\n",
    "- reinforcement-learning\n",
    "- card-games\n",
    "- agent-learning\n",
    "categories:\n",
    "- [Computer Science, Games]\n",
    "languages:\n",
    "- Python\n",
    "description: \"In this article we are going to plays cards. Well, not exactly ... with the power of reinforecement learning we are going to train intelligent agents that will play the game for us!\"\n",
    "cover: /banners/cards.jpg\n",
    "---\n"
   ]
  },
  {
   "cell_type": "raw",
   "metadata": {},
   "source": [
    "{% note info %}\n",
    "This post is the corresponding write-up for a WDSS project in which Albert Nyarko-Agyei, Alexandru Pascru and Ron Cvek applied reinforcement learning to better understand the mehanics of a British card game—<i>Oh Hell</i>. The rules and an online version of the game can be found [here](https://cardgames.io/ohhell/). Special credits to Henry Charlesworth for providing valuable insights. The main author of the blog-post is Albert Nyarko-Agye.\n",
    "{% endnote %}"
   ]
  },
  {
   "cell_type": "markdown",
   "metadata": {
    "id": "standing-doctrine"
   },
   "source": [
    "## Introduction\n",
    "\n",
    "The idea for this project started when I was introduced to the game, <i>Oh Hell</i>, by one of the contributors to the project. We played a variation where each player is given 7 cards and then the players take it in turn to predict how many rounds they will win. Interestingly, predicting correctly gives you extra points or 'tricks.' So, if many games are being played, a good prediction strategy is needed. \n",
    "\n",
    "After bidding, the round starts with the player to the left of the dealer playing a card from their hand. Each player then has to play a card from the same suit if they have one, otherwise any card from their hand is permisible. Once everyone has played a card, the player who played the highest card from the first suit wins the round, gets a trick added to their total, and starts the next round. Two cavets to these rules are:\n",
    "\n",
    "1.   Along with dealing cards for the game, a trump card is drawn and if a card from with the same suit is played, it will beat every other suit.\n",
    "\n",
    "2.   The number of tricks bid by the last bidder can not make the total number of tricks bid equal to the number of cards dealt to each player.\n",
    "\n",
    "Now that we have the rules down, some different strategies might have come across your mind. Horde your trump cards till the end? Bid a low number of tricks? Bid a high number of tricks because you're confident? What is the perfect strategy to this game? Turning to AI and Reinforcement Learning seemed a logical way to answer these questions. \n",
    "\n",
    "**Note**: There are two main themes in this project, the programming of agents/models, and the theory behind why certain methods work; feel free to pick which sections interest you."
   ]
  },
  {
   "cell_type": "markdown",
   "metadata": {
    "id": "b95fe6b6-c32b-4ae7-8bd9-a2ea26bdfd9a"
   },
   "source": [
    "## The Approach\n",
    "\n",
    "**Reinforcement learning** is a branch of Machine Learning that deals with the **actions** an **agent(s)** should take based on it's **observation** of an **environment** in order to maximise a **reward**. If our environment is a simple <i>Oh Hell</i> game, we can formulate our problem as designing an agent to predict what action will give the most reward, given that our environment is in a particular **state** and thus what action to take. "
   ]
  },
  {
   "cell_type": "markdown",
   "metadata": {
    "id": "1pYxVpo0J4YG"
   },
   "source": [
    "![Main-Components-of-RL](/images/oh-hell/rlvisualisation.jpg 'Main Components of RL')"
   ]
  },
  {
   "cell_type": "markdown",
   "metadata": {
    "id": "znlLVGoPAvGT"
   },
   "source": [
    "## Programming the Environment\n",
    "\n",
    "The first step was to implement a game of <i>Oh Hell</i> in Python. Most games studied under reinforcement learning follow a similar structure, and some build up to a class representing the environment the agent can train in. If your custom environment inherits from an existing base environment, you can use high level implementations of RL algorithms that require that base. For this project [OpenAI's gym](https://github.com/openai/gym) environment class was used. This base class has the abstract methods, step (take a single action) and reset (restart the environment). These methods are called by the final training algorithm.\n",
    "\n",
    "The rules of <i>Oh Hell</i> use elements of <i>Poker</i> and <i>Uno</i> which have already been implemented countless times. The module [RLCARD](https://github.com/datamllab/rlcard) by MIT has a set of already implemented environments for some card games, including <i>Poker</i> and <i>Uno</i>. Also the structure of RLCARD's environments is very clean, so the base of this project used a lot of their methods. At the time of development, however, the environments in RLCARD were only for two-player games and did not have a PPO implementation (will cover more) so it had to be extended.\n",
    "\n",
    "Below is the structure of the different classess in the code. Composition was used instead of inheritance; for instance, the Round class creates instances of players, a dealer, and a judger and their interaction is controlled within the Round class. A round in this code represents every player taking a single action, making a bid or playing a single card. A game represents the start of the bidding to the last card being played. "
   ]
  },
  {
   "cell_type": "markdown",
   "metadata": {
    "id": "z42rMn4wJ4YM"
   },
   "source": [
    "[![Structure-of-code](/images/oh-hell/gamecode.jpg 'Structure of Code')](https://github.com/LeLingu/OhHellProject/tree/main/rlohhell/games/ohhell)"
   ]
  },
  {
   "cell_type": "markdown",
   "metadata": {
    "id": "mHqydLBkAtHc"
   },
   "source": [
    "## Extracting the input state from the environment\n",
    "\n",
    "Now, the agent needs to be able to 'see' the environment and then make predictions about what action to take. This process can be viewed as a function, so neural networks come in to try and approximate the function that gives the best predictions. If we encode the useful information in the game, the neural network should be able to draw out a strategy. \n",
    "\n",
    "There are a few approaches to this particular section, one could encode almost everything in the environment and make it very easy for the neural network to pick out the optimal actions - or you could give the neural network only the basic information. The first method is a useful debugging tool since an agent with all the information about it's environment should have no excuse not to learn. The latter method takes less time to program but would take longer to train and would not necessarily give the best model because some useful information could be neglected.\n",
    "\n",
    "The encoding for the model at the time of this blog is below, and a detailed explanation of the [encodings](https://github.com/LeLingu/OhHellProject/blob/main/rlohhell/envs/ohhell.py) can be found on the github."
   ]
  },
  {
   "cell_type": "markdown",
   "metadata": {
    "id": "DiDxiVoxJ4YQ"
   },
   "source": [
    "![Encoding](/images/oh-hell/currentencoding.jpg)"
   ]
  },
  {
   "cell_type": "markdown",
   "metadata": {
    "id": "0uIuOTSCJ4YR"
   },
   "source": [
    "## Opponents for the agent and NFSP\n",
    "\n",
    "After extending the environment to a four-player game, what the agent would train against came into question. The approach that was taken in this project was inspired by the idea of **Neural Ficticous Self-Play** developed by David Silver and Johannes Heinrich, leading researchers in RL. At it's core, the idea is to train the agent against itself. Initially, a basic model was trained against random agents, then a new model was trained against three versions of the last agent. The theory is to repeat this process each time until the new agent beats the old agents. Below is a snippet of the code from the environment that uses this idea: "
   ]
  },
  {
   "cell_type": "code",
   "execution_count": null,
   "metadata": {
    "id": "N73CT4yGO3Iz"
   },
   "outputs": [],
   "source": [
    "'''This section plays the game with the dummy agents until it is time for the training \n",
    "agent to play then the agent's observation of the environment can be extracted'''\n",
    "\n",
    "while self.game.players[self.game.current_player].name != 'Training':\n",
    "    # The state is extracted from the current game\n",
    "    current_obs = self._extract_state(self.game.get_state(self.game.current_player))\n",
    "\n",
    "    # The observation is used in the trained model to predict an action\n",
    "    fictitious_action, _ = self.trained_model.predict(current_obs)\n",
    "\n",
    "    # The action is taken \n",
    "    _, _ = self.game.step(self._decode_action(fictitious_action))\n",
    "\n",
    "    # This section was used for training against random agents\n",
    "\n",
    "    # a = random.choice(self.game.get_legal_actions())\n",
    "    # _,_ = self.game.step(a)"
   ]
  },
  {
   "cell_type": "markdown",
   "metadata": {
    "id": "cc505e9c-fd7d-4339-a2dd-3101bf620883"
   },
   "source": [
    "## Choosing an RL algorithm\n",
    "\n",
    "Coming back to the function we need to approximate, the **policy**, there are a few different methods to choose from. However, they can all be categorised into two groups. Methods that generate training data (experience) from the same policy that is being evaluated are called **on-policy**. Methods that have two seperate policies, one for generating experience and another for evaluation, are called **off-policy**. \n",
    "\n",
    "The method we chose for this project was on-policy **Proximal Policy Optimization** or **PPO** by OpenAI. To quote their website directly, RL algorithms have a lot of 'moving parts' which makes the training of agents very unstable. PPO, however, uses a clipped objective function which reduces changes to the current policy so that the performance doesn't suddenly decline whilst training. A detailed explanation of the objective function can be found [here](https://openai.com/blog/openai-baselines-ppo/).\n"
   ]
  },
  {
   "cell_type": "markdown",
   "metadata": {
    "id": "E_K9z5AyucnK"
   },
   "source": [
    "## The Neural Network Architecture\n",
    "\n",
    "Adding on to our understanding of how to approximate the earlier function, PPO outputs the actions for the agent to take in the form of **logits** whilst it also outputs the **state value**. The logits are unnormalised predictions of the actions to take, the state value is the expected reward the agent will get from the current state if it follows the current policy. This additional evaluation of the state is why PPO is sometimes called an Actor-Critic algorithm. \n",
    "\n",
    "With this in mind, shared layers in the <i>Oh Hell</i> agent meant the agent was unable to learn until the actor and critic were spilt into two different networks. The reason for this is not clear, but a common internal conflict that agents face in RL is choosing actions that maximize immediate reward vs long-term rewards or the crucial **Exploration vs Exploitation Dilemma**.\n",
    "\n",
    "The structure of the neural network that generated the best model is below, with details of how many neurons where used at each level."
   ]
  },
  {
   "cell_type": "markdown",
   "metadata": {
    "id": "XFJru3dmJ4YX"
   },
   "source": [
    "![Neural-network-architecture](/images/oh-hell/neuralnetwork.jpg)"
   ]
  },
  {
   "cell_type": "markdown",
   "metadata": {
    "id": "ahHt5lipQp82"
   },
   "source": [
    "## Implementation of Algorithm\n",
    "\n",
    "To run the PPO algorithm on the custom environment, the package [stable-baselines3](https://github.com/DLR-RM/stable-baselines3) was used. It has a PPO implementation that allows you to customise the layers on a neural network and offers tensorboard support so that you can visualise training results. The entire code that generates the neural network model is found [here](https://github.com/LeLingu/OhHellProject/blob/main/custom_ppo/running_model.py) with explanations of what each section does.\n",
    "\n",
    "Below are some of the metrics that were tracked by tensorboard during training."
   ]
  },
  {
   "cell_type": "markdown",
   "metadata": {
    "id": "orMIS7jRJ4YW"
   },
   "source": [
    "![Viewing-tensorboard-integration](/images/oh-hell/tensorboard.jpeg)"
   ]
  },
  {
   "cell_type": "markdown",
   "metadata": {
    "id": "gzNyuSA9Y5FV"
   },
   "source": [
    "## Initial Results \n",
    "\n",
    "The initial models struggled to correctly select which of the 63 actions were actually possible at any given point. In the game design, ineligible actions are replaced with a random action - so these initial models did not improve on what a random agent would have done.\n",
    "\n",
    "At this stage, one could implement a so-called 'mask' over the unavailable actions which sets the logits of these actions to 0 or change the reward signal to the agent so that it is 'punished' everytime an unavailable action is selected. The latter approach is less coercive and is what was implemented. However, noticeably, it still leaves the agent with the ability to choose unavailable actions. "
   ]
  },
  {
   "cell_type": "markdown",
   "metadata": {
    "id": "oC0G579GrtB0"
   },
   "source": [
    "## Final Results\n",
    "\n",
    "The best trained model so far can not answer the original question of the best possible strategy for playing <i>Oh Hell</i>. The policy, however, shows a large improvement from a random agent; it will sometimes excute flawless runs, predicting a number of tricks, winning that number, and getting the extra bonus of 10 tricks and with no ineligible actions selected. This model will select an average of just under 2 unavailable actions per game -  of which is a massive improvement from the original 10 out of 11."
   ]
  },
  {
   "cell_type": "markdown",
   "metadata": {},
   "source": [
    "![gameplay](/images/oh-hell/gameplay1.jpg)"
   ]
  },
  {
   "cell_type": "markdown",
   "metadata": {
    "id": "7nD2Ga-EJ4YZ"
   },
   "source": [
    "## Conclusion\n",
    "\n",
    "This project answered interesting questions of how RL agents are trained and this particular approach of using neural networks, Deep RL being only one of the methods in RL. If there was more time, a Monte Carlo Tree Search could hypothetically be implemented on top of this agent to improve it's performance or a completely custom and more granular PPO implementation along with a mask."
   ]
  }
 ],
 "metadata": {
  "colab": {
   "collapsed_sections": [
    "b95fe6b6-c32b-4ae7-8bd9-a2ea26bdfd9a",
    "cc505e9c-fd7d-4339-a2dd-3101bf620883",
    "gzNyuSA9Y5FV",
    "oC0G579GrtB0",
    "7nD2Ga-EJ4YZ"
   ],
   "name": "OhHell_WDS.ipynb",
   "provenance": []
  },
  "interpreter": {
   "hash": "211acd2d604ca38d5b992e2b16ff0d4e59a1934dc3f38c925b75a7f39c98f25a"
  },
  "kernelspec": {
   "display_name": "Python 3",
   "language": "python",
   "name": "python3"
  },
  "language_info": {
   "codemirror_mode": {
    "name": "ipython",
    "version": 3
   },
   "file_extension": ".py",
   "mimetype": "text/x-python",
   "name": "python",
   "nbconvert_exporter": "python",
   "pygments_lexer": "ipython3",
   "version": "3.8.5"
  }
 },
 "nbformat": 4,
 "nbformat_minor": 5
}
